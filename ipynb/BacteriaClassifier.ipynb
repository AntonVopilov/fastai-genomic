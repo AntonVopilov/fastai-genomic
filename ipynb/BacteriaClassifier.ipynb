{
 "cells": [
  {
   "cell_type": "markdown",
   "metadata": {},
   "source": [
    "## basic classifier for Dna2Vec represenation\n",
    "\n",
    "Basic bacterial genome classification using Dna2Vec representation"
   ]
  },
  {
   "cell_type": "code",
   "execution_count": 2,
   "metadata": {},
   "outputs": [],
   "source": [
    "%load_ext autoreload\n",
    "%autoreload 2"
   ]
  },
  {
   "cell_type": "code",
   "execution_count": 1,
   "metadata": {},
   "outputs": [],
   "source": [
    "#export\n",
    "import sys\n",
    "sys.path.append(\"..\")\n",
    "from faigen.data import sequence \n",
    "from faigen.data.sequence import regex_filter, count_filter, Dna2VecDataBunch\n",
    "from functools import partial\n",
    "import pandas as pd\n",
    "import numpy as np\n",
    "from sklearn.decomposition import PCA\n",
    "from sklearn import manifold,neighbors\n",
    "from scipy.cluster.hierarchy import dendrogram, linkage  \n",
    "from matplotlib import pyplot as plt\n",
    "import seaborn as sns; sns.set(color_codes=True)\n",
    "import plotly.plotly as py\n",
    "import plotly.graph_objs as go\n",
    "from fastai import *\n",
    "from fastai.data_block import *\n",
    "from fastai.basic_train import *\n",
    "from fastai.layers import *\n",
    "from fastai.metrics import *\n",
    "from gensim.models import Word2Vec\n",
    "import torch \n",
    "import torch.nn as nn\n",
    "import torch.nn.functional as F\n",
    "import gc"
   ]
  },
  {
   "cell_type": "markdown",
   "metadata": {},
   "source": [
    "### Load Data"
   ]
  },
  {
   "cell_type": "code",
   "execution_count": 3,
   "metadata": {
    "collapsed": true
   },
   "outputs": [
    {
     "ename": "SyntaxError",
     "evalue": "unexpected EOF while parsing (<ipython-input-3-eb05e039e64b>, line 2)",
     "output_type": "error",
     "traceback": [
      "\u001b[0;36m  File \u001b[0;32m\"<ipython-input-3-eb05e039e64b>\"\u001b[0;36m, line \u001b[0;32m2\u001b[0m\n\u001b[0;31m    if __name__=='__main__':\u001b[0m\n\u001b[0m                            ^\u001b[0m\n\u001b[0;31mSyntaxError\u001b[0m\u001b[0;31m:\u001b[0m unexpected EOF while parsing\n"
     ]
    }
   ],
   "source": [
    "#export\n",
    "if __name__=='__main__':"
   ]
  },
  {
   "cell_type": "code",
   "execution_count": 2,
   "metadata": {},
   "outputs": [
    {
     "name": "stdout",
     "output_type": "stream",
     "text": [
      "Loading embedding\n"
     ]
    }
   ],
   "source": [
    "#export\n",
    "print(\"Loading embedding\")\n",
    "word_vectors = Word2Vec.load_word2vec_format('../faigen/pretrained/embeddings/dna2vec-20190611-1940-k8to8-100d-10c-4870Mbp-sliding-LmP.w2v') "
   ]
  },
  {
   "cell_type": "code",
   "execution_count": 3,
   "metadata": {
    "scrolled": true
   },
   "outputs": [
    {
     "name": "stderr",
     "output_type": "stream",
     "text": [
      "  1%|          | 2/241 [00:00<00:13, 17.97it/s]"
     ]
    },
    {
     "name": "stdout",
     "output_type": "stream",
     "text": [
      "Collecting sequence metadata\n"
     ]
    },
    {
     "name": "stderr",
     "output_type": "stream",
     "text": [
      "100%|██████████| 241/241 [00:10<00:00, 23.12it/s]\n",
      "  2%|▏         | 2/82 [00:00<00:04, 17.44it/s]"
     ]
    },
    {
     "name": "stdout",
     "output_type": "stream",
     "text": [
      "Collecting sequence metadata\n"
     ]
    },
    {
     "name": "stderr",
     "output_type": "stream",
     "text": [
      "100%|██████████| 82/82 [00:03<00:00, 24.88it/s]\n",
      "  2%|▏         | 4/241 [00:00<00:07, 33.40it/s]"
     ]
    },
    {
     "name": "stdout",
     "output_type": "stream",
     "text": [
      "Reading sequences\n"
     ]
    },
    {
     "name": "stderr",
     "output_type": "stream",
     "text": [
      "100%|██████████| 241/241 [00:06<00:00, 39.11it/s]"
     ]
    },
    {
     "name": "stdout",
     "output_type": "stream",
     "text": [
      "Tokenizing\n"
     ]
    },
    {
     "name": "stderr",
     "output_type": "stream",
     "text": [
      "\n"
     ]
    },
    {
     "name": "stdout",
     "output_type": "stream",
     "text": [
      "Vectorizing\n",
      "606\n"
     ]
    },
    {
     "name": "stderr",
     "output_type": "stream",
     "text": [
      "\r",
      "  0%|          | 0/82 [00:00<?, ?it/s]"
     ]
    },
    {
     "name": "stdout",
     "output_type": "stream",
     "text": [
      "Reading sequences\n"
     ]
    },
    {
     "name": "stderr",
     "output_type": "stream",
     "text": [
      "100%|██████████| 82/82 [00:04<00:00, 18.72it/s]"
     ]
    },
    {
     "name": "stdout",
     "output_type": "stream",
     "text": [
      "Tokenizing\n"
     ]
    },
    {
     "name": "stderr",
     "output_type": "stream",
     "text": [
      "\n"
     ]
    },
    {
     "name": "stdout",
     "output_type": "stream",
     "text": [
      "Vectorizing\n",
      "194\n"
     ]
    }
   ],
   "source": [
    "#export\n",
    "# DB=\"/data/genomes/GenSeq_fastas\"\n",
    "# DB='/home/serge/development/genomes/ncbi-genomes-2019-04-07/bacterial genomes'\n",
    "DB=\"/home/serge/database/data/genomes/ncbi-genomes-2019-04-07/Bacillus\"\n",
    "\n",
    "bunch=None\n",
    "learner=None\n",
    "gc.collect()\n",
    "\n",
    "#filters=[partial(regex_filter, rx=\"Streptomyces|Staphylococcus|Vibrio|Rhizobium\"),partial(regex_filter, rx=\"plasmid?\\s\", keep=False)]    \n",
    "#        partial(count_filter,num_fastas=(1,1), keep=1)]\n",
    "\n",
    "bunch = Dna2VecDataBunch.from_folder(DB,\n",
    "             filters=[],\n",
    "             labeler=lambda x: \" \".join(x.split()[1:3]),\n",
    "             emb=word_vectors,ngram=11,skip=0,\n",
    "             n_cpus=7,agg=partial(np.mean, axis=0))"
   ]
  },
  {
   "cell_type": "code",
   "execution_count": 40,
   "metadata": {},
   "outputs": [],
   "source": [
    "bunch.export(\"Bacillus.pkl\")"
   ]
  },
  {
   "cell_type": "code",
   "execution_count": 20,
   "metadata": {},
   "outputs": [],
   "source": [
    "from sklearn.feature_selection import SelectKBest"
   ]
  },
  {
   "cell_type": "code",
   "execution_count": 21,
   "metadata": {},
   "outputs": [
    {
     "data": {
      "text/plain": [
       "((194,), 194)"
      ]
     },
     "execution_count": 21,
     "metadata": {},
     "output_type": "execute_result"
    }
   ],
   "source": [
    "bunch.valid_ds.y.items.shape, len(bunch.valid_ds.x.items)"
   ]
  },
  {
   "cell_type": "code",
   "execution_count": 30,
   "metadata": {},
   "outputs": [],
   "source": [
    "X = list(bunch.train_ds.x.items)+list(bunch.valid_ds.x.items)"
   ]
  },
  {
   "cell_type": "code",
   "execution_count": 32,
   "metadata": {},
   "outputs": [],
   "source": [
    "y = list(bunch.train_ds.y.items)+list(bunch.valid_ds.y.items)"
   ]
  },
  {
   "cell_type": "code",
   "execution_count": 35,
   "metadata": {
    "scrolled": true
   },
   "outputs": [],
   "source": [
    "import pandas as pd\n",
    "bacillus_df = pd.DataFrame(data=X)\n",
    "bacillus_df[\"target\"] = y"
   ]
  },
  {
   "cell_type": "code",
   "execution_count": null,
   "metadata": {},
   "outputs": [],
   "source": []
  },
  {
   "cell_type": "code",
   "execution_count": 38,
   "metadata": {},
   "outputs": [],
   "source": [
    "bacillus_df.to_csv(\"../data/Bacillus-8mer.csv\")"
   ]
  },
  {
   "cell_type": "code",
   "execution_count": 44,
   "metadata": {},
   "outputs": [],
   "source": [
    "scorer = SelectKBest()\n",
    "X_10 = scorer.fit_transform(X, y)\n",
    "bacillus_10_df = pd.DataFrame(data=X_10)\n",
    "bacillus_10_df[\"target\"] = y"
   ]
  },
  {
   "cell_type": "code",
   "execution_count": 45,
   "metadata": {},
   "outputs": [],
   "source": [
    "from fastai.tabular import * "
   ]
  },
  {
   "cell_type": "code",
   "execution_count": 46,
   "metadata": {},
   "outputs": [],
   "source": [
    "dep_var = 'target'\n",
    "valid_idx = range(len(bacillus_10_df)-80, len(bacillus_10_df))"
   ]
  },
  {
   "cell_type": "code",
   "execution_count": 67,
   "metadata": {},
   "outputs": [],
   "source": [
    "data = TabularDataBunch.from_df(\"../data\", bacillus_10_df, dep_var, valid_idx=valid_idx)"
   ]
  },
  {
   "cell_type": "code",
   "execution_count": 68,
   "metadata": {},
   "outputs": [],
   "source": [
    "learn = tabular_learner(data, layers=[20,10], metrics=accuracy)"
   ]
  },
  {
   "cell_type": "code",
   "execution_count": 69,
   "metadata": {},
   "outputs": [
    {
     "data": {
      "text/html": [],
      "text/plain": [
       "<IPython.core.display.HTML object>"
      ]
     },
     "metadata": {},
     "output_type": "display_data"
    },
    {
     "name": "stdout",
     "output_type": "stream",
     "text": [
      "LR Finder is complete, type {learner_name}.recorder.plot() to see the graph.\n"
     ]
    }
   ],
   "source": [
    "learn.lr_find()"
   ]
  },
  {
   "cell_type": "code",
   "execution_count": 70,
   "metadata": {},
   "outputs": [
    {
     "data": {
      "image/png": "[encoded data removed]",
      "text/plain": [
       "<Figure size 432x288 with 1 Axes>"
      ]
     },
     "metadata": {},
     "output_type": "display_data"
    }
   ],
   "source": [
    "learn.recorder.plot()"
   ]
  },
  {
   "cell_type": "code",
   "execution_count": 71,
   "metadata": {},
   "outputs": [
    {
     "data": {
      "text/html": [
       "<table border=\"1\" class=\"dataframe\">\n",
       "  <thead>\n",
       "    <tr style=\"text-align: left;\">\n",
       "      <th>epoch</th>\n",
       "      <th>train_loss</th>\n",
       "      <th>valid_loss</th>\n",
       "      <th>accuracy</th>\n",
       "      <th>time</th>\n",
       "    </tr>\n",
       "  </thead>\n",
       "  <tbody>\n",
       "    <tr>\n",
       "      <td>0</td>\n",
       "      <td>1.692085</td>\n",
       "      <td>1.568736</td>\n",
       "      <td>0.262500</td>\n",
       "      <td>00:01</td>\n",
       "    </tr>\n",
       "    <tr>\n",
       "      <td>1</td>\n",
       "      <td>1.678345</td>\n",
       "      <td>1.565937</td>\n",
       "      <td>0.262500</td>\n",
       "      <td>00:01</td>\n",
       "    </tr>\n",
       "    <tr>\n",
       "      <td>2</td>\n",
       "      <td>1.653293</td>\n",
       "      <td>1.565222</td>\n",
       "      <td>0.262500</td>\n",
       "      <td>00:01</td>\n",
       "    </tr>\n",
       "    <tr>\n",
       "      <td>3</td>\n",
       "      <td>1.623039</td>\n",
       "      <td>1.574800</td>\n",
       "      <td>0.250000</td>\n",
       "      <td>00:01</td>\n",
       "    </tr>\n",
       "    <tr>\n",
       "      <td>4</td>\n",
       "      <td>1.592699</td>\n",
       "      <td>1.607689</td>\n",
       "      <td>0.250000</td>\n",
       "      <td>00:01</td>\n",
       "    </tr>\n",
       "    <tr>\n",
       "      <td>5</td>\n",
       "      <td>1.562963</td>\n",
       "      <td>1.645548</td>\n",
       "      <td>0.250000</td>\n",
       "      <td>00:01</td>\n",
       "    </tr>\n",
       "    <tr>\n",
       "      <td>6</td>\n",
       "      <td>1.536528</td>\n",
       "      <td>1.654057</td>\n",
       "      <td>0.250000</td>\n",
       "      <td>00:01</td>\n",
       "    </tr>\n",
       "    <tr>\n",
       "      <td>7</td>\n",
       "      <td>1.511987</td>\n",
       "      <td>1.677109</td>\n",
       "      <td>0.250000</td>\n",
       "      <td>00:01</td>\n",
       "    </tr>\n",
       "    <tr>\n",
       "      <td>8</td>\n",
       "      <td>1.494778</td>\n",
       "      <td>1.736768</td>\n",
       "      <td>0.237500</td>\n",
       "      <td>00:01</td>\n",
       "    </tr>\n",
       "    <tr>\n",
       "      <td>9</td>\n",
       "      <td>1.481087</td>\n",
       "      <td>1.711942</td>\n",
       "      <td>0.262500</td>\n",
       "      <td>00:01</td>\n",
       "    </tr>\n",
       "    <tr>\n",
       "      <td>10</td>\n",
       "      <td>1.468670</td>\n",
       "      <td>1.715516</td>\n",
       "      <td>0.262500</td>\n",
       "      <td>00:01</td>\n",
       "    </tr>\n",
       "    <tr>\n",
       "      <td>11</td>\n",
       "      <td>1.456905</td>\n",
       "      <td>1.733213</td>\n",
       "      <td>0.262500</td>\n",
       "      <td>00:01</td>\n",
       "    </tr>\n",
       "    <tr>\n",
       "      <td>12</td>\n",
       "      <td>1.447268</td>\n",
       "      <td>1.739656</td>\n",
       "      <td>0.262500</td>\n",
       "      <td>00:01</td>\n",
       "    </tr>\n",
       "    <tr>\n",
       "      <td>13</td>\n",
       "      <td>1.439297</td>\n",
       "      <td>1.713681</td>\n",
       "      <td>0.250000</td>\n",
       "      <td>00:01</td>\n",
       "    </tr>\n",
       "    <tr>\n",
       "      <td>14</td>\n",
       "      <td>1.433239</td>\n",
       "      <td>1.731828</td>\n",
       "      <td>0.250000</td>\n",
       "      <td>00:01</td>\n",
       "    </tr>\n",
       "    <tr>\n",
       "      <td>15</td>\n",
       "      <td>1.424000</td>\n",
       "      <td>1.749282</td>\n",
       "      <td>0.250000</td>\n",
       "      <td>00:01</td>\n",
       "    </tr>\n",
       "    <tr>\n",
       "      <td>16</td>\n",
       "      <td>1.418525</td>\n",
       "      <td>1.750285</td>\n",
       "      <td>0.250000</td>\n",
       "      <td>00:01</td>\n",
       "    </tr>\n",
       "    <tr>\n",
       "      <td>17</td>\n",
       "      <td>1.414353</td>\n",
       "      <td>1.748751</td>\n",
       "      <td>0.250000</td>\n",
       "      <td>00:01</td>\n",
       "    </tr>\n",
       "    <tr>\n",
       "      <td>18</td>\n",
       "      <td>1.409602</td>\n",
       "      <td>1.748361</td>\n",
       "      <td>0.250000</td>\n",
       "      <td>00:01</td>\n",
       "    </tr>\n",
       "  </tbody>\n",
       "</table>"
      ],
      "text/plain": [
       "<IPython.core.display.HTML object>"
      ]
     },
     "metadata": {},
     "output_type": "display_data"
    }
   ],
   "source": [
    "learn.fit_one_cycle(19, 1e-2)"
   ]
  },
  {
   "cell_type": "code",
   "execution_count": 66,
   "metadata": {},
   "outputs": [
    {
     "data": {
      "text/plain": [
       "4"
      ]
     },
     "execution_count": 66,
     "metadata": {},
     "output_type": "execute_result"
    }
   ],
   "source": [
    "max(y)"
   ]
  },
  {
   "cell_type": "code",
   "execution_count": 30,
   "metadata": {
    "run_control": {
     "marked": false
    },
    "scrolled": false
   },
   "outputs": [
    {
     "name": "stdout",
     "output_type": "stream",
     "text": [
      "Creating Learner\n",
      "SequentialEx(\n",
      "  (layers): ModuleList(\n",
      "    (0): Linear(in_features=100, out_features=100, bias=True)\n",
      "    (1): ReLU6()\n",
      "    (2): Linear(in_features=100, out_features=100, bias=True)\n",
      "    (3): ReLU6()\n",
      "    (4): BatchNorm1d(100, eps=1e-05, momentum=0.1, affine=True, track_running_stats=True)\n",
      "    (5): Linear(in_features=100, out_features=21, bias=True)\n",
      "    (6): ReLU6()\n",
      "    (7): BatchNorm1d(21, eps=1e-05, momentum=0.1, affine=True, track_running_stats=True)\n",
      "    (8): Dropout(p=0.5)\n",
      "    (9): Linear(in_features=21, out_features=5, bias=True)\n",
      "  )\n",
      ")\n"
     ]
    }
   ],
   "source": [
    "print(\"Creating Learner\")\n",
    "layers=[\n",
    "        nn.Linear(bunch.train_dl.x.c,100),nn.ReLU6(),\n",
    "        nn.Linear(100,100),nn.ReLU6(),\n",
    "        nn.BatchNorm1d(100),\n",
    "        nn.Linear(100,21),nn.ReLU6(),\n",
    "        nn.BatchNorm1d(21),\n",
    "        nn.Dropout(0.5),\n",
    "        nn.Linear(21,bunch.train_dl.y.c)]\n",
    "bac_classifier = SequentialEx(*layers)\n",
    "print(bac_classifier)\n",
    "learn = Learner(bunch, bac_classifier, metrics=[accuracy])"
   ]
  },
  {
   "cell_type": "code",
   "execution_count": 11,
   "metadata": {},
   "outputs": [
    {
     "data": {
      "text/plain": [
       "5"
      ]
     },
     "execution_count": 11,
     "metadata": {},
     "output_type": "execute_result"
    }
   ],
   "source": [
    "bunch.train_dl.y.c"
   ]
  },
  {
   "cell_type": "code",
   "execution_count": 29,
   "metadata": {
    "run_control": {
     "marked": false
    },
    "scrolled": true
   },
   "outputs": [
    {
     "data": {
      "text/html": [],
      "text/plain": [
       "<IPython.core.display.HTML object>"
      ]
     },
     "metadata": {},
     "output_type": "display_data"
    },
    {
     "name": "stdout",
     "output_type": "stream",
     "text": [
      "LR Finder is complete, type {learner_name}.recorder.plot() to see the graph.\n"
     ]
    },
    {
     "data": {
      "image/png": "[encoded data removed]",
      "text/plain": [
       "<Figure size 432x288 with 1 Axes>"
      ]
     },
     "metadata": {},
     "output_type": "display_data"
    }
   ],
   "source": [
    "learn.lr_find();learn.recorder.plot()"
   ]
  },
  {
   "cell_type": "code",
   "execution_count": 31,
   "metadata": {
    "scrolled": false
   },
   "outputs": [
    {
     "name": "stdout",
     "output_type": "stream",
     "text": [
      "Training\n"
     ]
    },
    {
     "data": {
      "text/html": [
       "<table border=\"1\" class=\"dataframe\">\n",
       "  <thead>\n",
       "    <tr style=\"text-align: left;\">\n",
       "      <th>epoch</th>\n",
       "      <th>train_loss</th>\n",
       "      <th>valid_loss</th>\n",
       "      <th>accuracy</th>\n",
       "      <th>time</th>\n",
       "    </tr>\n",
       "  </thead>\n",
       "  <tbody>\n",
       "    <tr>\n",
       "      <td>0</td>\n",
       "      <td>1.680021</td>\n",
       "      <td>1.568475</td>\n",
       "      <td>0.365979</td>\n",
       "      <td>00:01</td>\n",
       "    </tr>\n",
       "    <tr>\n",
       "      <td>1</td>\n",
       "      <td>1.644321</td>\n",
       "      <td>1.557220</td>\n",
       "      <td>0.365979</td>\n",
       "      <td>00:01</td>\n",
       "    </tr>\n",
       "    <tr>\n",
       "      <td>2</td>\n",
       "      <td>1.615756</td>\n",
       "      <td>1.543324</td>\n",
       "      <td>0.365979</td>\n",
       "      <td>00:01</td>\n",
       "    </tr>\n",
       "    <tr>\n",
       "      <td>3</td>\n",
       "      <td>1.585456</td>\n",
       "      <td>1.537052</td>\n",
       "      <td>0.365979</td>\n",
       "      <td>00:01</td>\n",
       "    </tr>\n",
       "    <tr>\n",
       "      <td>4</td>\n",
       "      <td>1.564552</td>\n",
       "      <td>1.532194</td>\n",
       "      <td>0.365979</td>\n",
       "      <td>00:01</td>\n",
       "    </tr>\n",
       "    <tr>\n",
       "      <td>5</td>\n",
       "      <td>1.538424</td>\n",
       "      <td>1.551517</td>\n",
       "      <td>0.365979</td>\n",
       "      <td>00:01</td>\n",
       "    </tr>\n",
       "    <tr>\n",
       "      <td>6</td>\n",
       "      <td>1.526740</td>\n",
       "      <td>1.541531</td>\n",
       "      <td>0.365979</td>\n",
       "      <td>00:01</td>\n",
       "    </tr>\n",
       "    <tr>\n",
       "      <td>7</td>\n",
       "      <td>1.512003</td>\n",
       "      <td>1.538530</td>\n",
       "      <td>0.365979</td>\n",
       "      <td>00:01</td>\n",
       "    </tr>\n",
       "    <tr>\n",
       "      <td>8</td>\n",
       "      <td>1.498191</td>\n",
       "      <td>1.544300</td>\n",
       "      <td>0.365979</td>\n",
       "      <td>00:01</td>\n",
       "    </tr>\n",
       "    <tr>\n",
       "      <td>9</td>\n",
       "      <td>1.487355</td>\n",
       "      <td>1.560631</td>\n",
       "      <td>0.365979</td>\n",
       "      <td>00:01</td>\n",
       "    </tr>\n",
       "  </tbody>\n",
       "</table>"
      ],
      "text/plain": [
       "<IPython.core.display.HTML object>"
      ]
     },
     "metadata": {},
     "output_type": "display_data"
    }
   ],
   "source": [
    "print (\"Training\")\n",
    "learn.fit_one_cycle(10,5e-3)"
   ]
  },
  {
   "cell_type": "code",
   "execution_count": 33,
   "metadata": {},
   "outputs": [],
   "source": [
    "b=bunch.one_batch()"
   ]
  },
  {
   "cell_type": "code",
   "execution_count": 42,
   "metadata": {},
   "outputs": [
    {
     "data": {
      "text/plain": [
       "['__class__',\n",
       " '__delattr__',\n",
       " '__dict__',\n",
       " '__dir__',\n",
       " '__doc__',\n",
       " '__eq__',\n",
       " '__format__',\n",
       " '__ge__',\n",
       " '__getattribute__',\n",
       " '__getitem__',\n",
       " '__gt__',\n",
       " '__hash__',\n",
       " '__init__',\n",
       " '__init_subclass__',\n",
       " '__le__',\n",
       " '__len__',\n",
       " '__lt__',\n",
       " '__module__',\n",
       " '__ne__',\n",
       " '__new__',\n",
       " '__post_init__',\n",
       " '__reduce__',\n",
       " '__reduce_ex__',\n",
       " '__repr__',\n",
       " '__setattr__',\n",
       " '__sizeof__',\n",
       " '__str__',\n",
       " '__subclasshook__',\n",
       " '__weakref__',\n",
       " '_bunch',\n",
       " '_get_by_folder',\n",
       " '_label_cls',\n",
       " '_label_from_list',\n",
       " '_label_list',\n",
       " '_processor',\n",
       " '_relative_item_path',\n",
       " '_relative_item_paths',\n",
       " '_split',\n",
       " '_square_show',\n",
       " '_square_show_res',\n",
       " 'add',\n",
       " 'analyze_pred',\n",
       " 'c',\n",
       " 'c2i',\n",
       " 'classes',\n",
       " 'copy_new',\n",
       " 'databunch',\n",
       " 'filter_by_folder',\n",
       " 'filter_by_func',\n",
       " 'filter_by_rand',\n",
       " 'filter_missing_y',\n",
       " 'from_csv',\n",
       " 'from_df',\n",
       " 'from_folder',\n",
       " 'get',\n",
       " 'get_label_cls',\n",
       " 'ignore_empty',\n",
       " 'inner_df',\n",
       " 'items',\n",
       " 'label_cls',\n",
       " 'label_const',\n",
       " 'label_empty',\n",
       " 'label_from_df',\n",
       " 'label_from_folder',\n",
       " 'label_from_func',\n",
       " 'label_from_re',\n",
       " 'loss_func',\n",
       " 'new',\n",
       " 'no_split',\n",
       " 'num_parts',\n",
       " 'path',\n",
       " 'process',\n",
       " 'process_one',\n",
       " 'processor',\n",
       " 'random_split_by_pct',\n",
       " 'reconstruct',\n",
       " 'split_by_files',\n",
       " 'split_by_fname_file',\n",
       " 'split_by_folder',\n",
       " 'split_by_idx',\n",
       " 'split_by_idxs',\n",
       " 'split_by_list',\n",
       " 'split_by_rand_pct',\n",
       " 'split_by_valid_func',\n",
       " 'split_from_df',\n",
       " 'split_none',\n",
       " 'split_subsets',\n",
       " 'to_text',\n",
       " 'use_partial_data',\n",
       " 'x']"
      ]
     },
     "execution_count": 42,
     "metadata": {},
     "output_type": "execute_result"
    }
   ],
   "source": [
    "dir(bunch.train_dl.y)"
   ]
  },
  {
   "cell_type": "code",
   "execution_count": 45,
   "metadata": {},
   "outputs": [
    {
     "data": {
      "text/plain": [
       "{'Bacillus anthracis': 0,\n",
       " 'Bacillus subtilis': 1,\n",
       " 'Bacillus cereus': 2,\n",
       " 'Bacillus velezensis': 3,\n",
       " 'Bacillus thuringiensis': 4}"
      ]
     },
     "execution_count": 45,
     "metadata": {},
     "output_type": "execute_result"
    }
   ],
   "source": [
    "bunch.train_dl.y.c2i"
   ]
  },
  {
   "cell_type": "code",
   "execution_count": 35,
   "metadata": {
    "scrolled": true
   },
   "outputs": [
    {
     "name": "stdout",
     "output_type": "stream",
     "text": [
      "Training\n"
     ]
    },
    {
     "data": {
      "text/html": [
       "<table border=\"1\" class=\"dataframe\">\n",
       "  <thead>\n",
       "    <tr style=\"text-align: left;\">\n",
       "      <th>epoch</th>\n",
       "      <th>train_loss</th>\n",
       "      <th>valid_loss</th>\n",
       "      <th>accuracy</th>\n",
       "      <th>time</th>\n",
       "    </tr>\n",
       "  </thead>\n",
       "  <tbody>\n",
       "    <tr>\n",
       "      <td>0</td>\n",
       "      <td>1.517771</td>\n",
       "      <td>1.536819</td>\n",
       "      <td>0.365979</td>\n",
       "      <td>00:00</td>\n",
       "    </tr>\n",
       "    <tr>\n",
       "      <td>1</td>\n",
       "      <td>1.518076</td>\n",
       "      <td>1.537140</td>\n",
       "      <td>0.365979</td>\n",
       "      <td>00:00</td>\n",
       "    </tr>\n",
       "    <tr>\n",
       "      <td>2</td>\n",
       "      <td>1.521607</td>\n",
       "      <td>1.564627</td>\n",
       "      <td>0.365979</td>\n",
       "      <td>00:00</td>\n",
       "    </tr>\n",
       "    <tr>\n",
       "      <td>3</td>\n",
       "      <td>1.569962</td>\n",
       "      <td>3.361804</td>\n",
       "      <td>0.185567</td>\n",
       "      <td>00:00</td>\n",
       "    </tr>\n",
       "    <tr>\n",
       "      <td>4</td>\n",
       "      <td>1.631927</td>\n",
       "      <td>1.762733</td>\n",
       "      <td>0.365979</td>\n",
       "      <td>00:00</td>\n",
       "    </tr>\n",
       "    <tr>\n",
       "      <td>5</td>\n",
       "      <td>1.666953</td>\n",
       "      <td>218.889984</td>\n",
       "      <td>0.185567</td>\n",
       "      <td>00:00</td>\n",
       "    </tr>\n",
       "    <tr>\n",
       "      <td>6</td>\n",
       "      <td>1.675805</td>\n",
       "      <td>130.557251</td>\n",
       "      <td>0.185567</td>\n",
       "      <td>00:00</td>\n",
       "    </tr>\n",
       "    <tr>\n",
       "      <td>7</td>\n",
       "      <td>1.667572</td>\n",
       "      <td>101.857735</td>\n",
       "      <td>0.185567</td>\n",
       "      <td>00:00</td>\n",
       "    </tr>\n",
       "    <tr>\n",
       "      <td>8</td>\n",
       "      <td>1.649913</td>\n",
       "      <td>50.720848</td>\n",
       "      <td>0.185567</td>\n",
       "      <td>00:00</td>\n",
       "    </tr>\n",
       "    <tr>\n",
       "      <td>9</td>\n",
       "      <td>1.623518</td>\n",
       "      <td>21.495054</td>\n",
       "      <td>0.185567</td>\n",
       "      <td>00:00</td>\n",
       "    </tr>\n",
       "  </tbody>\n",
       "</table>"
      ],
      "text/plain": [
       "<IPython.core.display.HTML object>"
      ]
     },
     "metadata": {},
     "output_type": "display_data"
    }
   ],
   "source": [
    "print (\"Training\")\n",
    "learn.fit_one_cycle(10,5e-1)"
   ]
  },
  {
   "cell_type": "code",
   "execution_count": 24,
   "metadata": {},
   "outputs": [
    {
     "data": {
      "image/png": "[encoded data removed]",
      "text/plain": [
       "<Figure size 432x288 with 1 Axes>"
      ]
     },
     "metadata": {},
     "output_type": "display_data"
    }
   ],
   "source": [
    "learn.recorder.plot_metrics()"
   ]
  },
  {
   "cell_type": "code",
   "execution_count": 14,
   "metadata": {
    "scrolled": false
   },
   "outputs": [
    {
     "data": {
      "text/plain": [
       "[[tensor(0.1546)],\n",
       " [tensor(0.3660)],\n",
       " [tensor(0.3660)],\n",
       " [tensor(0.3660)],\n",
       " [tensor(0.3660)],\n",
       " [tensor(0.3660)],\n",
       " [tensor(0.3660)],\n",
       " [tensor(0.3660)],\n",
       " [tensor(0.3660)],\n",
       " [tensor(0.3660)]]"
      ]
     },
     "execution_count": 14,
     "metadata": {},
     "output_type": "execute_result"
    }
   ],
   "source": [
    "learn.recorder.metrics"
   ]
  },
  {
   "cell_type": "code",
   "execution_count": 17,
   "metadata": {
    "scrolled": false
   },
   "outputs": [
    {
     "data": {
      "text/plain": [
       "Category 3"
      ]
     },
     "execution_count": 17,
     "metadata": {},
     "output_type": "execute_result"
    }
   ],
   "source": [
    "learn.predict(10)[0]"
   ]
  },
  {
   "cell_type": "code",
   "execution_count": 176,
   "metadata": {},
   "outputs": [
    {
     "data": {
      "text/plain": [
       "tensor(2)"
      ]
     },
     "execution_count": 176,
     "metadata": {},
     "output_type": "execute_result"
    }
   ],
   "source": [
    "i"
   ]
  },
  {
   "cell_type": "code",
   "execution_count": 184,
   "metadata": {},
   "outputs": [
    {
     "name": "stdout",
     "output_type": "stream",
     "text": [
      "../exp/nb_BacteriaClassifier.py\r\n",
      "Converted BacteriaClassifier.ipynb to ../exp/nb_BacteriaClassifier.py\r\n"
     ]
    }
   ],
   "source": [
    "!python notebook2script.py BacteriaClassifier.ipynb"
   ]
  },
  {
   "cell_type": "code",
   "execution_count": 23,
   "metadata": {},
   "outputs": [
    {
     "data": {
      "text/html": [],
      "text/plain": [
       "<IPython.core.display.HTML object>"
      ]
     },
     "metadata": {},
     "output_type": "display_data"
    },
    {
     "name": "stdout",
     "output_type": "stream",
     "text": [
      "LR Finder is complete, type {learner_name}.recorder.plot() to see the graph.\n"
     ]
    }
   ],
   "source": [
    "learn.lr_find()"
   ]
  },
  {
   "cell_type": "code",
   "execution_count": 24,
   "metadata": {},
   "outputs": [
    {
     "data": {
      "image/png": "[encoded data removed]",
      "text/plain": [
       "<Figure size 432x288 with 1 Axes>"
      ]
     },
     "metadata": {},
     "output_type": "display_data"
    }
   ],
   "source": [
    "learn.recorder.plot()"
   ]
  },
  {
   "cell_type": "code",
   "execution_count": null,
   "metadata": {},
   "outputs": [
    {
     "name": "stdout",
     "output_type": "stream",
     "text": [
      "> \u001b[0;32m/home/serge/anaconda3/envs/bio-2/lib/python3.6/site-packages/torch/utils/data/dataloader.py\u001b[0m(608)\u001b[0;36m_process_next_batch\u001b[0;34m()\u001b[0m\n",
      "\u001b[0;32m    606 \u001b[0;31m                \u001b[0;32mraise\u001b[0m \u001b[0mException\u001b[0m\u001b[0;34m(\u001b[0m\u001b[0;34m\"KeyError:\"\u001b[0m \u001b[0;34m+\u001b[0m \u001b[0mbatch\u001b[0m\u001b[0;34m.\u001b[0m\u001b[0mexc_msg\u001b[0m\u001b[0;34m)\u001b[0m\u001b[0;34m\u001b[0m\u001b[0;34m\u001b[0m\u001b[0m\n",
      "\u001b[0m\u001b[0;32m    607 \u001b[0;31m            \u001b[0;32melse\u001b[0m\u001b[0;34m:\u001b[0m\u001b[0;34m\u001b[0m\u001b[0;34m\u001b[0m\u001b[0m\n",
      "\u001b[0m\u001b[0;32m--> 608 \u001b[0;31m                \u001b[0;32mraise\u001b[0m \u001b[0mbatch\u001b[0m\u001b[0;34m.\u001b[0m\u001b[0mexc_type\u001b[0m\u001b[0;34m(\u001b[0m\u001b[0mbatch\u001b[0m\u001b[0;34m.\u001b[0m\u001b[0mexc_msg\u001b[0m\u001b[0;34m)\u001b[0m\u001b[0;34m\u001b[0m\u001b[0;34m\u001b[0m\u001b[0m\n",
      "\u001b[0m\u001b[0;32m    609 \u001b[0;31m        \u001b[0;32mreturn\u001b[0m \u001b[0mbatch\u001b[0m\u001b[0;34m\u001b[0m\u001b[0;34m\u001b[0m\u001b[0m\n",
      "\u001b[0m\u001b[0;32m    610 \u001b[0;31m\u001b[0;34m\u001b[0m\u001b[0m\n",
      "\u001b[0m\n",
      "ipdb> batch\n",
      "<torch.utils.data._utils.ExceptionWrapper object at 0x7ff4d40b8b38>\n"
     ]
    }
   ],
   "source": [
    "%debug"
   ]
  },
  {
   "cell_type": "code",
   "execution_count": 10,
   "metadata": {},
   "outputs": [
    {
     "data": {
      "text/plain": [
       "1686"
      ]
     },
     "execution_count": 10,
     "metadata": {},
     "output_type": "execute_result"
    }
   ],
   "source": [
    "len(data.items)"
   ]
  },
  {
   "cell_type": "markdown",
   "metadata": {},
   "source": [
    "###  Genome vectors"
   ]
  },
  {
   "cell_type": "markdown",
   "metadata": {},
   "source": [
    "## Genome Inventory"
   ]
  },
  {
   "cell_type": "code",
   "execution_count": 156,
   "metadata": {},
   "outputs": [],
   "source": [
    "inv=pd.read_pickle('/home/serge/database/data/genomes/ncbi-genomes-2019-04-07/inventory/sequences_by_label.pkl').reset_index()"
   ]
  },
  {
   "cell_type": "code",
   "execution_count": 157,
   "metadata": {},
   "outputs": [
    {
     "data": {
      "text/html": [
       "<div>\n",
       "<style scoped>\n",
       "    .dataframe tbody tr th:only-of-type {\n",
       "        vertical-align: middle;\n",
       "    }\n",
       "\n",
       "    .dataframe tbody tr th {\n",
       "        vertical-align: top;\n",
       "    }\n",
       "\n",
       "    .dataframe thead th {\n",
       "        text-align: right;\n",
       "    }\n",
       "</style>\n",
       "<table border=\"1\" class=\"dataframe\">\n",
       "  <thead>\n",
       "    <tr style=\"text-align: right;\">\n",
       "      <th></th>\n",
       "      <th>label</th>\n",
       "      <th>seq_count</th>\n",
       "      <th>id</th>\n",
       "      <th>lengths</th>\n",
       "      <th>min</th>\n",
       "      <th>max</th>\n",
       "      <th>median</th>\n",
       "      <th>files</th>\n",
       "      <th>file_count</th>\n",
       "    </tr>\n",
       "  </thead>\n",
       "  <tbody>\n",
       "    <tr>\n",
       "      <th>0</th>\n",
       "      <td>'Catharanthus roseus'</td>\n",
       "      <td>1</td>\n",
       "      <td>[NZ_CP035949.1]</td>\n",
       "      <td>[600116]</td>\n",
       "      <td>600116</td>\n",
       "      <td>600116</td>\n",
       "      <td>600116.0</td>\n",
       "      <td>[/home/serge/database/data/genomes/ncbi-genome...</td>\n",
       "      <td>1</td>\n",
       "    </tr>\n",
       "    <tr>\n",
       "      <th>1</th>\n",
       "      <td>'Deinococcus soli'</td>\n",
       "      <td>1</td>\n",
       "      <td>[NZ_CP011389.1]</td>\n",
       "      <td>[3236984]</td>\n",
       "      <td>3236984</td>\n",
       "      <td>3236984</td>\n",
       "      <td>3236984.0</td>\n",
       "      <td>[/home/serge/database/data/genomes/ncbi-genome...</td>\n",
       "      <td>1</td>\n",
       "    </tr>\n",
       "    <tr>\n",
       "      <th>2</th>\n",
       "      <td>'Nostoc azollae'</td>\n",
       "      <td>1</td>\n",
       "      <td>[NC_014248.1]</td>\n",
       "      <td>[5354700]</td>\n",
       "      <td>5354700</td>\n",
       "      <td>5354700</td>\n",
       "      <td>5354700.0</td>\n",
       "      <td>[/home/serge/database/data/genomes/ncbi-genome...</td>\n",
       "      <td>1</td>\n",
       "    </tr>\n",
       "    <tr>\n",
       "      <th>3</th>\n",
       "      <td>18,711,729 reads</td>\n",
       "      <td>1</td>\n",
       "      <td>[NZ_CP033612.1]</td>\n",
       "      <td>[2899315]</td>\n",
       "      <td>2899315</td>\n",
       "      <td>2899315</td>\n",
       "      <td>2899315.0</td>\n",
       "      <td>[/home/serge/database/data/genomes/ncbi-genome...</td>\n",
       "      <td>1</td>\n",
       "    </tr>\n",
       "    <tr>\n",
       "      <th>4</th>\n",
       "      <td>Acaryochloris marina</td>\n",
       "      <td>1</td>\n",
       "      <td>[NC_009925.1]</td>\n",
       "      <td>[6503724]</td>\n",
       "      <td>6503724</td>\n",
       "      <td>6503724</td>\n",
       "      <td>6503724.0</td>\n",
       "      <td>[/home/serge/database/data/genomes/ncbi-genome...</td>\n",
       "      <td>1</td>\n",
       "    </tr>\n",
       "  </tbody>\n",
       "</table>\n",
       "</div>"
      ],
      "text/plain": [
       "                   label  seq_count               id    lengths      min  \\\n",
       "0  'Catharanthus roseus'          1  [NZ_CP035949.1]   [600116]   600116   \n",
       "1     'Deinococcus soli'          1  [NZ_CP011389.1]  [3236984]  3236984   \n",
       "2       'Nostoc azollae'          1    [NC_014248.1]  [5354700]  5354700   \n",
       "3       18,711,729 reads          1  [NZ_CP033612.1]  [2899315]  2899315   \n",
       "4   Acaryochloris marina          1    [NC_009925.1]  [6503724]  6503724   \n",
       "\n",
       "       max     median                                              files  \\\n",
       "0   600116   600116.0  [/home/serge/database/data/genomes/ncbi-genome...   \n",
       "1  3236984  3236984.0  [/home/serge/database/data/genomes/ncbi-genome...   \n",
       "2  5354700  5354700.0  [/home/serge/database/data/genomes/ncbi-genome...   \n",
       "3  2899315  2899315.0  [/home/serge/database/data/genomes/ncbi-genome...   \n",
       "4  6503724  6503724.0  [/home/serge/database/data/genomes/ncbi-genome...   \n",
       "\n",
       "   file_count  \n",
       "0           1  \n",
       "1           1  \n",
       "2           1  \n",
       "3           1  \n",
       "4           1  "
      ]
     },
     "execution_count": 157,
     "metadata": {},
     "output_type": "execute_result"
    }
   ],
   "source": [
    "inv.head()"
   ]
  },
  {
   "cell_type": "code",
   "execution_count": 161,
   "metadata": {},
   "outputs": [],
   "source": [
    "def filter_by_count(df:pd.DataFrame, min=1)->pd.DataFrame:\n",
    "    res=df.copy()\n",
    "    drop = res.index[res.index.values[np.asarray(res.seq_count.values) < min]]\n",
    "    res.drop(drop, axis=0,inplace=True)\n",
    "    return res.reset_index(drop=True)\n",
    "\n",
    "\n",
    "def filter_by_label(df:pd.DataFrame, word:str)->pd.DataFrame:\n",
    "    res,mask=df.copy(),[]\n",
    "    for x in df.label.values: mask.append(False if word in x else True)\n",
    "    drop = res.index[mask]\n",
    "    res.drop(drop, axis=0,inplace=True)\n",
    "    return res.reset_index(drop=True)\n"
   ]
  },
  {
   "cell_type": "code",
   "execution_count": 172,
   "metadata": {},
   "outputs": [],
   "source": [
    "short_list = filter_by_count(filter_by_label(inv,\"Bacillus \"), 40)"
   ]
  },
  {
   "cell_type": "code",
   "execution_count": 173,
   "metadata": {},
   "outputs": [
    {
     "data": {
      "text/html": [
       "<div>\n",
       "<style scoped>\n",
       "    .dataframe tbody tr th:only-of-type {\n",
       "        vertical-align: middle;\n",
       "    }\n",
       "\n",
       "    .dataframe tbody tr th {\n",
       "        vertical-align: top;\n",
       "    }\n",
       "\n",
       "    .dataframe thead th {\n",
       "        text-align: right;\n",
       "    }\n",
       "</style>\n",
       "<table border=\"1\" class=\"dataframe\">\n",
       "  <thead>\n",
       "    <tr style=\"text-align: right;\">\n",
       "      <th></th>\n",
       "      <th>label</th>\n",
       "      <th>seq_count</th>\n",
       "      <th>id</th>\n",
       "      <th>lengths</th>\n",
       "      <th>min</th>\n",
       "      <th>max</th>\n",
       "      <th>median</th>\n",
       "      <th>files</th>\n",
       "      <th>file_count</th>\n",
       "    </tr>\n",
       "  </thead>\n",
       "  <tbody>\n",
       "    <tr>\n",
       "      <th>0</th>\n",
       "      <td>Bacillus anthracis</td>\n",
       "      <td>51</td>\n",
       "      <td>[NZ_CP018903.1, NZ_AP018443.1, NZ_CP009325.1, ...</td>\n",
       "      <td>[5227565, 5219278, 5221627, 5210966, 5231857, ...</td>\n",
       "      <td>5200082</td>\n",
       "      <td>5321900</td>\n",
       "      <td>5227565.0</td>\n",
       "      <td>[/home/serge/database/data/genomes/ncbi-genome...</td>\n",
       "      <td>51</td>\n",
       "    </tr>\n",
       "    <tr>\n",
       "      <th>1</th>\n",
       "      <td>Bacillus cereus</td>\n",
       "      <td>49</td>\n",
       "      <td>[NZ_CP009605.1, NZ_CP015589.1, NZ_CP016595.1, ...</td>\n",
       "      <td>[5271178, 5160326, 5329684, 5498820, 5417196, ...</td>\n",
       "      <td>5083176</td>\n",
       "      <td>5561815</td>\n",
       "      <td>5329684.0</td>\n",
       "      <td>[/home/serge/database/data/genomes/ncbi-genome...</td>\n",
       "      <td>49</td>\n",
       "    </tr>\n",
       "    <tr>\n",
       "      <th>2</th>\n",
       "      <td>Bacillus subtilis</td>\n",
       "      <td>107</td>\n",
       "      <td>[NZ_CP021507.1, NZ_CP021498.1, NZ_CP021499.1, ...</td>\n",
       "      <td>[4190134, 3988602, 3988649, 4293706, 4184648, ...</td>\n",
       "      <td>3876276</td>\n",
       "      <td>4350498</td>\n",
       "      <td>4122154.0</td>\n",
       "      <td>[/home/serge/database/data/genomes/ncbi-genome...</td>\n",
       "      <td>107</td>\n",
       "    </tr>\n",
       "    <tr>\n",
       "      <th>3</th>\n",
       "      <td>Bacillus thuringiensis</td>\n",
       "      <td>44</td>\n",
       "      <td>[NZ_CP013055.1, NC_018693.1, NZ_CP009351.1, NC...</td>\n",
       "      <td>[5674369, 5414494, 5491311, 5486830, 5330088, ...</td>\n",
       "      <td>5213295</td>\n",
       "      <td>6002284</td>\n",
       "      <td>5491623.0</td>\n",
       "      <td>[/home/serge/database/data/genomes/ncbi-genome...</td>\n",
       "      <td>44</td>\n",
       "    </tr>\n",
       "    <tr>\n",
       "      <th>4</th>\n",
       "      <td>Bacillus velezensis</td>\n",
       "      <td>72</td>\n",
       "      <td>[NZ_CP017747.1, NZ_CP030150.1, NZ_CP023075.1, ...</td>\n",
       "      <td>[3884433, 4258978, 4047350, 4226250, 4090582, ...</td>\n",
       "      <td>3713516</td>\n",
       "      <td>4326822</td>\n",
       "      <td>3999832.0</td>\n",
       "      <td>[/home/serge/database/data/genomes/ncbi-genome...</td>\n",
       "      <td>72</td>\n",
       "    </tr>\n",
       "  </tbody>\n",
       "</table>\n",
       "</div>"
      ],
      "text/plain": [
       "                    label  seq_count  \\\n",
       "0      Bacillus anthracis         51   \n",
       "1         Bacillus cereus         49   \n",
       "2       Bacillus subtilis        107   \n",
       "3  Bacillus thuringiensis         44   \n",
       "4     Bacillus velezensis         72   \n",
       "\n",
       "                                                  id  \\\n",
       "0  [NZ_CP018903.1, NZ_AP018443.1, NZ_CP009325.1, ...   \n",
       "1  [NZ_CP009605.1, NZ_CP015589.1, NZ_CP016595.1, ...   \n",
       "2  [NZ_CP021507.1, NZ_CP021498.1, NZ_CP021499.1, ...   \n",
       "3  [NZ_CP013055.1, NC_018693.1, NZ_CP009351.1, NC...   \n",
       "4  [NZ_CP017747.1, NZ_CP030150.1, NZ_CP023075.1, ...   \n",
       "\n",
       "                                             lengths      min      max  \\\n",
       "0  [5227565, 5219278, 5221627, 5210966, 5231857, ...  5200082  5321900   \n",
       "1  [5271178, 5160326, 5329684, 5498820, 5417196, ...  5083176  5561815   \n",
       "2  [4190134, 3988602, 3988649, 4293706, 4184648, ...  3876276  4350498   \n",
       "3  [5674369, 5414494, 5491311, 5486830, 5330088, ...  5213295  6002284   \n",
       "4  [3884433, 4258978, 4047350, 4226250, 4090582, ...  3713516  4326822   \n",
       "\n",
       "      median                                              files  file_count  \n",
       "0  5227565.0  [/home/serge/database/data/genomes/ncbi-genome...          51  \n",
       "1  5329684.0  [/home/serge/database/data/genomes/ncbi-genome...          49  \n",
       "2  4122154.0  [/home/serge/database/data/genomes/ncbi-genome...         107  \n",
       "3  5491623.0  [/home/serge/database/data/genomes/ncbi-genome...          44  \n",
       "4  3999832.0  [/home/serge/database/data/genomes/ncbi-genome...          72  "
      ]
     },
     "execution_count": 173,
     "metadata": {},
     "output_type": "execute_result"
    }
   ],
   "source": [
    "short_list"
   ]
  },
  {
   "cell_type": "code",
   "execution_count": 171,
   "metadata": {},
   "outputs": [],
   "source": [
    "from pathlib import Path\n",
    "import os\n",
    "from shutil import copy\n",
    "from tqdm import tqdm\n",
    "\n",
    "\n",
    "out=Path('/home/serge/database/data/genomes/ncbi-genomes-2019-04-07')\n",
    "folders ={\n",
    "    'train': out / \"Bacillus\" / \"train\",\n",
    "    'valid': out / \"Bacillus\" /\"valid\",\n",
    "    'test' :  out / \"Bacillus\" /\"test\"\n",
    "}\n",
    "for k in folders:\n",
    "    if not os.path.exists(folders[k]):\n",
    "        os.makedirs(folders[k])\n",
    "\n",
    "\n",
    "for i in tqdm(range(short_list.shape[0])):\n",
    "    cnt = short_list.loc[i,\"seq_count\"]\n",
    "    train = int(0.75 * cnt)\n",
    "    valid = cnt - train\n",
    "    files = short_list.loc[i, \"files\"]\n",
    "    for i in range(cnt):\n",
    "        copy(files[i], folders[\"train\"]) if i < train else copy(files[i], folders[\"valid\"])"
   ]
  },
  {
   "cell_type": "code",
   "execution_count": null,
   "metadata": {},
   "outputs": [],
   "source": [
    "for k,v in folders"
   ]
  },
  {
   "cell_type": "code",
   "execution_count": 128,
   "metadata": {},
   "outputs": [],
   "source": [
    "res=inv.copy()"
   ]
  },
  {
   "cell_type": "code",
   "execution_count": 134,
   "metadata": {},
   "outputs": [],
   "source": [
    "drop = res.index[res.index.values[np.asarray(res.seq_count.values) < 10]] "
   ]
  },
  {
   "cell_type": "code",
   "execution_count": 135,
   "metadata": {},
   "outputs": [
    {
     "data": {
      "text/plain": [
       "Int64Index([ 1,  3,  4, 13, 15, 16, 19, 20, 21, 23, 25, 26, 27, 28, 30, 31, 32,\n",
       "            34, 35, 39, 40, 41, 42, 43, 46, 47, 50, 52, 54, 57, 59, 60, 61, 62,\n",
       "            63, 64, 65, 66, 68, 69, 70, 74, 78, 80, 82, 85, 88],\n",
       "           dtype='int64')"
      ]
     },
     "execution_count": 135,
     "metadata": {},
     "output_type": "execute_result"
    }
   ],
   "source": [
    "drop"
   ]
  },
  {
   "cell_type": "code",
   "execution_count": 133,
   "metadata": {},
   "outputs": [
    {
     "data": {
      "text/plain": [
       "array([ True, False,  True,  True, ...,  True,  True,  True,  True])"
      ]
     },
     "execution_count": 133,
     "metadata": {},
     "output_type": "execute_result"
    }
   ],
   "source": [
    "res.seq_count.values > 2"
   ]
  },
  {
   "cell_type": "code",
   "execution_count": null,
   "metadata": {},
   "outputs": [],
   "source": [
    "def filter_by_length(inv, percentiles=[50.,100.]):\n",
    "    p = np.percentiles()\n",
    "    for "
   ]
  }
 ],
 "metadata": {
  "kernelspec": {
   "display_name": "Python 3",
   "language": "python",
   "name": "python3"
  },
  "language_info": {
   "codemirror_mode": {
    "name": "ipython",
    "version": 3
   },
   "file_extension": ".py",
   "mimetype": "text/x-python",
   "name": "python",
   "nbconvert_exporter": "python",
   "pygments_lexer": "ipython3",
   "version": "3.6.8"
  },
  "varInspector": {
   "cols": {
    "lenName": 16,
    "lenType": 16,
    "lenVar": 40
   },
   "kernels_config": {
    "python": {
     "delete_cmd_postfix": "",
     "delete_cmd_prefix": "del ",
     "library": "var_list.py",
     "varRefreshCmd": "print(var_dic_list())"
    },
    "r": {
     "delete_cmd_postfix": ") ",
     "delete_cmd_prefix": "rm(",
     "library": "var_list.r",
     "varRefreshCmd": "cat(var_dic_list()) "
    }
   },
   "types_to_exclude": [
    "module",
    "function",
    "builtin_function_or_method",
    "instance",
    "_Feature"
   ],
   "window_display": false
  }
 },
 "nbformat": 4,
 "nbformat_minor": 2
}
