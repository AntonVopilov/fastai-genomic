{
 "cells": [
  {
   "cell_type": "markdown",
   "metadata": {},
   "source": [
    "## Use 16kbp chunks for creating more training data \n"
   ]
  },
  {
   "cell_type": "code",
   "execution_count": 1,
   "metadata": {},
   "outputs": [],
   "source": [
    "%load_ext autoreload\n",
    "%autoreload 2"
   ]
  },
  {
   "cell_type": "code",
   "execution_count": 2,
   "metadata": {},
   "outputs": [],
   "source": [
    "import glob\n",
    "import numpy as np\n",
    "import matplotlib.pyplot as plt\n",
    "import pandas as pd\n",
    "import seaborn as sns; sns.set(color_codes=True)\n",
    "from gensim.models.keyedvectors import KeyedVectors\n",
    "from gensim.models import Word2Vec\n",
    "from sklearn.decomposition import PCA\n",
    "from sklearn.manifold import TSNE\n",
    "from sklearn import manifold,neighbors\n",
    "from scipy.cluster.hierarchy import dendrogram, linkage, to_tree, fcluster,distance  \n",
    "from matplotlib import pyplot as plt\n",
    "from mpl_toolkits.mplot3d import Axes3D\n",
    "from Bio import SeqIO\n",
    "from Bio.Align import MultipleSeqAlignment\n",
    "from Bio.Phylo.TreeConstruction import DistanceCalculator, DistanceTreeConstructor\n",
    "from Bio import Phylo\n",
    "from tqdm import tqdm"
   ]
  },
  {
   "cell_type": "code",
   "execution_count": 2,
   "metadata": {},
   "outputs": [],
   "source": [
    "word_vectors = Word2Vec.load_word2vec_format('/data/genomes/embeddings/dna2vec-20190612-1611-k10to10-100d-10c-4870Mbp-sliding-kPR.w2v')"
   ]
  },
  {
   "cell_type": "code",
   "execution_count": 3,
   "metadata": {},
   "outputs": [
    {
     "name": "stderr",
     "output_type": "stream",
     "text": [
      "100%|██████████| 4715/4715 [00:03<00:00, 1490.95it/s]\n"
     ]
    }
   ],
   "source": [
    "FASTA=\"/data/genomes/dna2vec_train/\"\n",
    "ff = glob.glob(f\"{FASTA}*.fasta\")\n",
    "X = {}\n",
    "for file in tqdm(ff):\n",
    "    for record in SeqIO.parse(file, \"fasta\"):\n",
    "        seq=str(record.seq)\n",
    "        X[record.description]=seq"
   ]
  },
  {
   "cell_type": "code",
   "execution_count": 5,
   "metadata": {},
   "outputs": [
    {
     "data": {
      "text/html": [
       "<div>\n",
       "<style scoped>\n",
       "    .dataframe tbody tr th:only-of-type {\n",
       "        vertical-align: middle;\n",
       "    }\n",
       "\n",
       "    .dataframe tbody tr th {\n",
       "        vertical-align: top;\n",
       "    }\n",
       "\n",
       "    .dataframe thead th {\n",
       "        text-align: right;\n",
       "    }\n",
       "</style>\n",
       "<table border=\"1\" class=\"dataframe\">\n",
       "  <thead>\n",
       "    <tr style=\"text-align: right;\">\n",
       "      <th></th>\n",
       "      <th>0</th>\n",
       "      <th>ID</th>\n",
       "      <th>genus</th>\n",
       "      <th>len</th>\n",
       "    </tr>\n",
       "  </thead>\n",
       "  <tbody>\n",
       "    <tr>\n",
       "      <th>0</th>\n",
       "      <td>ATGGTAATATCGCTCCTTTGGATTGGGTTTCGTCACTTTTATCTTA...</td>\n",
       "      <td>NZ_CAPG01000111.1</td>\n",
       "      <td>Bacillus</td>\n",
       "      <td>22347</td>\n",
       "    </tr>\n",
       "    <tr>\n",
       "      <th>1</th>\n",
       "      <td>TTTTTATTTATTCAGCAGCCTTAAACGGTCAACCTATAGAAAAAAT...</td>\n",
       "      <td>NZ_LN886493.1</td>\n",
       "      <td>Planktothrix</td>\n",
       "      <td>1670</td>\n",
       "    </tr>\n",
       "    <tr>\n",
       "      <th>2</th>\n",
       "      <td>CCCCCCCCCGCTGGCACAGACCCCACATGATAAGACGAGTCTGATT...</td>\n",
       "      <td>NZ_LDJH01000056.1</td>\n",
       "      <td>Stenotrophomonas</td>\n",
       "      <td>1317</td>\n",
       "    </tr>\n",
       "    <tr>\n",
       "      <th>3</th>\n",
       "      <td>ATCAGGACAGCGCTGGCTGCCTACTCTCTTGCATCCAAGGCGAATA...</td>\n",
       "      <td>NZ_FQXZ01000009.1</td>\n",
       "      <td>Vibrio</td>\n",
       "      <td>586</td>\n",
       "    </tr>\n",
       "    <tr>\n",
       "      <th>4</th>\n",
       "      <td>GACCGTGGGGTGGGGTCGTGTCGGGGTGCCCCCGCAGCAAACTGCA...</td>\n",
       "      <td>NZ_JXDG01000067.1</td>\n",
       "      <td>Pseudomonas</td>\n",
       "      <td>72512</td>\n",
       "    </tr>\n",
       "  </tbody>\n",
       "</table>\n",
       "</div>"
      ],
      "text/plain": [
       "                                                   0                 ID  \\\n",
       "0  ATGGTAATATCGCTCCTTTGGATTGGGTTTCGTCACTTTTATCTTA...  NZ_CAPG01000111.1   \n",
       "1  TTTTTATTTATTCAGCAGCCTTAAACGGTCAACCTATAGAAAAAAT...      NZ_LN886493.1   \n",
       "2  CCCCCCCCCGCTGGCACAGACCCCACATGATAAGACGAGTCTGATT...  NZ_LDJH01000056.1   \n",
       "3  ATCAGGACAGCGCTGGCTGCCTACTCTCTTGCATCCAAGGCGAATA...  NZ_FQXZ01000009.1   \n",
       "4  GACCGTGGGGTGGGGTCGTGTCGGGGTGCCCCCGCAGCAAACTGCA...  NZ_JXDG01000067.1   \n",
       "\n",
       "              genus    len  \n",
       "0          Bacillus  22347  \n",
       "1      Planktothrix   1670  \n",
       "2  Stenotrophomonas   1317  \n",
       "3            Vibrio    586  \n",
       "4       Pseudomonas  72512  "
      ]
     },
     "execution_count": 5,
     "metadata": {},
     "output_type": "execute_result"
    }
   ],
   "source": [
    "descr = X.keys()\n",
    "fastas = pd.DataFrame(data=list(X.values()))\n",
    "fastas[\"ID\"] = [x.split()[0] for x in descr]\n",
    "fastas[\"genus\"] = [x.split()[1] for x in descr]\n",
    "fastas[\"len\"] = [len(x) for x in X.values()]\n",
    "fastas.head()"
   ]
  },
  {
   "cell_type": "code",
   "execution_count": 7,
   "metadata": {},
   "outputs": [
    {
     "data": {
      "text/plain": [
       "(2130, 4)"
      ]
     },
     "execution_count": 7,
     "metadata": {},
     "output_type": "execute_result"
    }
   ],
   "source": [
    "longer = fastas.loc[fastas[\"len\"] > 16000,:];longer.shape"
   ]
  },
  {
   "cell_type": "code",
   "execution_count": 8,
   "metadata": {},
   "outputs": [
    {
     "name": "stderr",
     "output_type": "stream",
     "text": [
      "100%|██████████| 2130/2130 [20:54<00:00,  2.17it/s]  \n"
     ]
    }
   ],
   "source": [
    "ksent_len = 16000\n",
    "ksent = {}\n",
    "for i in tqdm(range(longer.shape[0])):\n",
    "    s = longer.iloc[i,0]\n",
    "    vectors = []\n",
    "    for hop in range((len(s) // ksent_len)):\n",
    "        seq = \"\".join(s[hop:hop+ksent_len])\n",
    "        t = [\"\".join(seq[i:i+10]) for i in range(len(seq)-10)]\n",
    "        tokens = list(filter(lambda x: set(x) == {'A', 'C', 'G', 'T'}, t))\n",
    "        vectors.append(np.mean(word_vectors[tokens], axis=0))\n",
    "    ksent[longer.iloc[i,1]] = (longer.iloc[i,2], vectors)"
   ]
  },
  {
   "cell_type": "code",
   "execution_count": null,
   "metadata": {},
   "outputs": [],
   "source": [
    "sentences = pd.DataFrame(ksent.keys())\n",
    "sentences['vectors'] = [ksent[x][1] for x in ksen.keys()]\n",
    "sentences['genus'] = [ksent[x][0] for x in ksen.keys()]\n",
    "sentences['n'] = [len(ksent[x][1]) for x in ksen.keys()]\n",
    "sentences.sort_values(by=\"n\", ascending=False,inplace=True)\n",
    "sentences.reset_index(drop=True,inplace=True)\n",
    "sentences.to_pickle(\"../data/ksen-sentences.pkl\")"
   ]
  },
  {
   "cell_type": "code",
   "execution_count": 5,
   "metadata": {},
   "outputs": [
    {
     "data": {
      "text/html": [
       "<div>\n",
       "<style scoped>\n",
       "    .dataframe tbody tr th:only-of-type {\n",
       "        vertical-align: middle;\n",
       "    }\n",
       "\n",
       "    .dataframe tbody tr th {\n",
       "        vertical-align: top;\n",
       "    }\n",
       "\n",
       "    .dataframe thead th {\n",
       "        text-align: right;\n",
       "    }\n",
       "</style>\n",
       "<table border=\"1\" class=\"dataframe\">\n",
       "  <thead>\n",
       "    <tr style=\"text-align: right;\">\n",
       "      <th></th>\n",
       "      <th>0</th>\n",
       "      <th>vectors</th>\n",
       "      <th>genus</th>\n",
       "      <th>n</th>\n",
       "    </tr>\n",
       "  </thead>\n",
       "  <tbody>\n",
       "    <tr>\n",
       "      <th>0</th>\n",
       "      <td>NZ_AJTN02000197.1</td>\n",
       "      <td>[[-0.040759552, 0.13493565, 0.11740411, 0.0319...</td>\n",
       "      <td>Bacillus</td>\n",
       "      <td>518</td>\n",
       "    </tr>\n",
       "    <tr>\n",
       "      <th>1</th>\n",
       "      <td>NZ_FOWX01000006.1</td>\n",
       "      <td>[[-0.03424186, 0.10903403, 0.15674573, -0.0431...</td>\n",
       "      <td>Pseudomonas</td>\n",
       "      <td>509</td>\n",
       "    </tr>\n",
       "    <tr>\n",
       "      <th>2</th>\n",
       "      <td>NZ_LGUX01000047.1</td>\n",
       "      <td>[[-0.02221683, 0.16862509, 0.13689668, -0.0279...</td>\n",
       "      <td>Streptomyces</td>\n",
       "      <td>416</td>\n",
       "    </tr>\n",
       "    <tr>\n",
       "      <th>3</th>\n",
       "      <td>NZ_LAQO01000097.1</td>\n",
       "      <td>[[-0.032138012, 0.13535376, 0.11554951, -0.080...</td>\n",
       "      <td>Paenibacillus</td>\n",
       "      <td>408</td>\n",
       "    </tr>\n",
       "    <tr>\n",
       "      <th>4</th>\n",
       "      <td>NZ_JNNU01000024.1</td>\n",
       "      <td>[[-0.09971707, 0.14343369, 0.073053084, -0.051...</td>\n",
       "      <td>Rhizobium</td>\n",
       "      <td>391</td>\n",
       "    </tr>\n",
       "    <tr>\n",
       "      <th>5</th>\n",
       "      <td>NZ_JDSA01000159.1</td>\n",
       "      <td>[[-0.029859722, 0.09358531, 0.117933616, -0.06...</td>\n",
       "      <td>Clostridium</td>\n",
       "      <td>375</td>\n",
       "    </tr>\n",
       "    <tr>\n",
       "      <th>6</th>\n",
       "      <td>NZ_FULE01000075.1</td>\n",
       "      <td>[[-0.029456131, 0.1513094, 0.16170317, -0.0625...</td>\n",
       "      <td>Vibrio</td>\n",
       "      <td>374</td>\n",
       "    </tr>\n",
       "    <tr>\n",
       "      <th>7</th>\n",
       "      <td>NZ_FWWS01000035.1</td>\n",
       "      <td>[[-0.029456131, 0.1513094, 0.16170317, -0.0625...</td>\n",
       "      <td>Corynebacterium</td>\n",
       "      <td>374</td>\n",
       "    </tr>\n",
       "    <tr>\n",
       "      <th>8</th>\n",
       "      <td>NZ_JDSA01000158.1</td>\n",
       "      <td>[[0.012553351, 0.058161315, 0.11874426, -0.032...</td>\n",
       "      <td>Clostridium</td>\n",
       "      <td>370</td>\n",
       "    </tr>\n",
       "    <tr>\n",
       "      <th>9</th>\n",
       "      <td>NZ_JNNU01000023.1</td>\n",
       "      <td>[[-0.07605679, 0.1315616, 0.099155806, -0.0717...</td>\n",
       "      <td>Rhizobium</td>\n",
       "      <td>345</td>\n",
       "    </tr>\n",
       "  </tbody>\n",
       "</table>\n",
       "</div>"
      ],
      "text/plain": [
       "                   0                                            vectors  \\\n",
       "0  NZ_AJTN02000197.1  [[-0.040759552, 0.13493565, 0.11740411, 0.0319...   \n",
       "1  NZ_FOWX01000006.1  [[-0.03424186, 0.10903403, 0.15674573, -0.0431...   \n",
       "2  NZ_LGUX01000047.1  [[-0.02221683, 0.16862509, 0.13689668, -0.0279...   \n",
       "3  NZ_LAQO01000097.1  [[-0.032138012, 0.13535376, 0.11554951, -0.080...   \n",
       "4  NZ_JNNU01000024.1  [[-0.09971707, 0.14343369, 0.073053084, -0.051...   \n",
       "5  NZ_JDSA01000159.1  [[-0.029859722, 0.09358531, 0.117933616, -0.06...   \n",
       "6  NZ_FULE01000075.1  [[-0.029456131, 0.1513094, 0.16170317, -0.0625...   \n",
       "7  NZ_FWWS01000035.1  [[-0.029456131, 0.1513094, 0.16170317, -0.0625...   \n",
       "8  NZ_JDSA01000158.1  [[0.012553351, 0.058161315, 0.11874426, -0.032...   \n",
       "9  NZ_JNNU01000023.1  [[-0.07605679, 0.1315616, 0.099155806, -0.0717...   \n",
       "\n",
       "             genus    n  \n",
       "0         Bacillus  518  \n",
       "1      Pseudomonas  509  \n",
       "2     Streptomyces  416  \n",
       "3    Paenibacillus  408  \n",
       "4        Rhizobium  391  \n",
       "5      Clostridium  375  \n",
       "6           Vibrio  374  \n",
       "7  Corynebacterium  374  \n",
       "8      Clostridium  370  \n",
       "9        Rhizobium  345  "
      ]
     },
     "execution_count": 5,
     "metadata": {},
     "output_type": "execute_result"
    }
   ],
   "source": [
    "sentences = pd.read_pickle(\"../data/ksen-sentences.pkl\")\n",
    "sentences.head(10)"
   ]
  },
  {
   "cell_type": "markdown",
   "metadata": {},
   "source": [
    "## Reduce dimensions"
   ]
  },
  {
   "cell_type": "code",
   "execution_count": null,
   "metadata": {},
   "outputs": [],
   "source": [
    "import sys, os\n",
    "sys.path.append(\".\")\n",
    "from KlsAutoencoder import *\n",
    "e = Encoder(\"../data/models/encoder-3d\",[100,50,3]);e"
   ]
  },
  {
   "cell_type": "markdown",
   "metadata": {},
   "source": [
    "## Visualize  longest sequences"
   ]
  },
  {
   "cell_type": "code",
   "execution_count": 12,
   "metadata": {
    "scrolled": true
   },
   "outputs": [
    {
     "data": {
      "text/plain": [
       "<KlsAutoencoder.Encoder at 0x7f239e703b00>"
      ]
     },
     "execution_count": 12,
     "metadata": {},
     "output_type": "execute_result"
    }
   ],
   "source": [
    "longest = sentences.iloc[:10,:]\n",
    "data = [(e.encode(x[\"vectors\"]), x[\"genus\"]) for _, x in longest.iterrows()]\n",
    "\n",
    "fig = plt.figure(figsize=(13,13))\n",
    "ax = fig.add_subplot(111,projection=\"3d\")\n",
    "for s, label in data:\n",
    "    ax.scatter(s[:,0],s[:,1],s[:,2], marker=\"o\",s=50, alpha=0.5, label = label)\n",
    "ax.set_xlabel('dim1')\n",
    "ax.set_ylabel('dim2')\n",
    "ax.set_zlabel('dim3')\n",
    "ax.set_title(\"Ksent in space\")\n",
    "plt.legend()\n",
    "plt.show()"
   ]
  },
  {
   "cell_type": "markdown",
   "metadata": {},
   "source": [
    "## Observations\n",
    "\n",
    "- genome has own position in a latent space\n",
    "- all Ksent (k-sentences of lenght 16K) of a genome cluster together\n",
    "- it seems that any Ksent of a genome carries similar information and can serve as an estimate for entire sequence in the latent space"
   ]
  },
  {
   "cell_type": "markdown",
   "metadata": {},
   "source": [
    "IDEA:\n",
    "- sample ksent from sequences and create sentence vectors\n",
    "- make it into a Word2Vec instance\n",
    "- use model.most_similar(positive=['woman', 'king'], negative=['man']) to find related areas of other genomes"
   ]
  },
  {
   "cell_type": "code",
   "execution_count": 221,
   "metadata": {},
   "outputs": [],
   "source": []
  }
 ],
 "metadata": {
  "kernelspec": {
   "display_name": "Python [conda env:bio-2]",
   "language": "python",
   "name": "conda-env-bio-2-py"
  },
  "language_info": {
   "codemirror_mode": {
    "name": "ipython",
    "version": 3
   },
   "file_extension": ".py",
   "mimetype": "text/x-python",
   "name": "python",
   "nbconvert_exporter": "python",
   "pygments_lexer": "ipython3",
   "version": "3.6.8"
  },
  "notify_time": "30",
  "varInspector": {
   "cols": {
    "lenName": 16,
    "lenType": 16,
    "lenVar": 40
   },
   "kernels_config": {
    "python": {
     "delete_cmd_postfix": "",
     "delete_cmd_prefix": "del ",
     "library": "var_list.py",
     "varRefreshCmd": "print(var_dic_list())"
    },
    "r": {
     "delete_cmd_postfix": ") ",
     "delete_cmd_prefix": "rm(",
     "library": "var_list.r",
     "varRefreshCmd": "cat(var_dic_list()) "
    }
   },
   "types_to_exclude": [
    "module",
    "function",
    "builtin_function_or_method",
    "instance",
    "_Feature"
   ],
   "window_display": false
  }
 },
 "nbformat": 4,
 "nbformat_minor": 2
}
